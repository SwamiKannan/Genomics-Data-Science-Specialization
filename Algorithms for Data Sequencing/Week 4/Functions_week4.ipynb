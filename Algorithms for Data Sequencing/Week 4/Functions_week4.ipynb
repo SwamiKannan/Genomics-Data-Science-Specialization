{
 "cells": [
  {
   "cell_type": "code",
   "execution_count": 103,
   "metadata": {},
   "outputs": [],
   "source": [
    "from functions_week3 import overlap\n",
    "from functions import read_q"
   ]
  },
  {
   "cell_type": "code",
   "execution_count": 2,
   "metadata": {},
   "outputs": [],
   "source": [
    "import itertools\n",
    "from itertools import permutations"
   ]
  },
  {
   "cell_type": "code",
   "execution_count": 3,
   "metadata": {},
   "outputs": [],
   "source": [
    "def scs(str_list,k):\n",
    "    reference_string=''.join(str_list)\n",
    "    ss_set=[]\n",
    "    count=0\n",
    "    for strings in permutations(str_list):\n",
    "        count_overlap=0\n",
    "        final_str=strings[0]  #Basically, at the end, we are appending the overlap value of the second string to the final_str. Hence, if any 'strings' is not considered as the second string in overlap() e.g. first string in the permutation set, it will not be updated in the final string \n",
    "        for i in range(len(str_list)-k):\n",
    "            oval=overlap(strings[i],strings[i+1],k)\n",
    "            final_str+=strings[i+1][oval:]\n",
    "            count_overlap+=1\n",
    "        ss_set.append(final_str)\n",
    "        if len(final_str)<len(reference_string):\n",
    "            reference_string=final_str\n",
    "        count+=1\n",
    "    count_incidence=0\n",
    "    for ss in ss_set:\n",
    "        if len(ss)==len(reference_string):\n",
    "            count_incidence+=1\n",
    "    return reference_string,count_incidence,ss_set\n",
    "    "
   ]
  },
  {
   "cell_type": "code",
   "execution_count": 4,
   "metadata": {},
   "outputs": [],
   "source": [
    "ssc, count,overlap_cnt=scs(['ACGGTACGAGC','GAGCTTCCGA','GACACGG'],1)"
   ]
  },
  {
   "cell_type": "code",
   "execution_count": 5,
   "metadata": {},
   "outputs": [
    {
     "name": "stdout",
     "output_type": "stream",
     "text": [
      "The shortest common superstring is: GACACGGTACGAGCTTCCGA\n",
      "The length of the shortest common superstring is: 20\n",
      "The sequences with scs is: 1\n"
     ]
    }
   ],
   "source": [
    "print('The shortest common superstring is:',ssc)\n",
    "print('The length of the shortest common superstring is:',len(ssc))\n",
    "print('The sequences with scs is:', count)"
   ]
  },
  {
   "cell_type": "code",
   "execution_count": 6,
   "metadata": {},
   "outputs": [],
   "source": [
    "def get_maximal_overlap(str_list,k): #implementation based on lecture. Need to try dictionary approach\n",
    "    best_olen=0\n",
    "    best_a,best_b='',''\n",
    "    for a,b in permutations(str_list,2):\n",
    "        oval=overlap(a,b,k)\n",
    "        if oval>best_olen:\n",
    "            best_a, best_b, best_olen= a,b,oval\n",
    "    return best_a, best_b, best_olen"
   ]
  },
  {
   "cell_type": "code",
   "execution_count": 7,
   "metadata": {},
   "outputs": [],
   "source": [
    "def greedy_scs(str_list,k):\n",
    "    a,b,olen=get_maximal_overlap(str_list,k)\n",
    "    while olen>0:\n",
    "        str_list.remove(a)\n",
    "        str_list.remove(b)\n",
    "        str_list.append(a+b[olen:])\n",
    "        a,b,olen=get_maximal_overlap(str_list,k)\n",
    "    if len(str_list)>1:\n",
    "        return str_list\n",
    "    else:\n",
    "        return ''.join(str_list)"
   ]
  },
  {
   "cell_type": "code",
   "execution_count": 8,
   "metadata": {},
   "outputs": [
    {
     "data": {
      "text/plain": [
       "'GACACGGTACGAGCTTCCGA'"
      ]
     },
     "execution_count": 8,
     "metadata": {},
     "output_type": "execute_result"
    }
   ],
   "source": [
    "greedy_scs(['ACGGTACGAGC','GAGCTTCCGA','GACACGG'],2)"
   ]
  },
  {
   "cell_type": "code",
   "execution_count": 9,
   "metadata": {},
   "outputs": [
    {
     "data": {
      "text/plain": [
       "'GACACGGTACGAGCTTCCGA'"
      ]
     },
     "execution_count": 9,
     "metadata": {},
     "output_type": "execute_result"
    }
   ],
   "source": [
    "greedy_scs(['ACGGTACGAGC','GAGCTTCCGA','GACACGG'],2)"
   ]
  },
  {
   "cell_type": "code",
   "execution_count": 10,
   "metadata": {},
   "outputs": [
    {
     "name": "stdout",
     "output_type": "stream",
     "text": [
      "[('abc', 'xyz', 'mno'), ('abc', 'mno', 'xyz'), ('xyz', 'abc', 'mno'), ('xyz', 'mno', 'abc'), ('mno', 'abc', 'xyz'), ('mno', 'xyz', 'abc')]\n",
      "abc\n",
      "abc\n",
      "xyz\n",
      "xyz\n",
      "mno\n",
      "mno\n"
     ]
    }
   ],
   "source": [
    "list1=['abc','xyz','mno']\n",
    "print(list(itertools.permutations(list1)))\n",
    "for it in permutations(list1):\n",
    "    print(it[0])"
   ]
  },
  {
   "cell_type": "code",
   "execution_count": 11,
   "metadata": {},
   "outputs": [],
   "source": [
    "def visualize_de_b(st,k):\n",
    "    nodes,edges=get_db(st,k) #Need to implement this function separately\n",
    "    dot_str = 'digraph \"DeBruijn graph\" {\\n'\n",
    "    for node in nodes:\n",
    "        dot_str+=' % s [label=\"%s\"] ; \\n' % (node, node)\n",
    "    for src,dst in edges:\n",
    "        dot_str+=' %s->%s; \\n' % (src,dst)\n",
    "    return dot_str + '}\\n' "
   ]
  },
  {
   "cell_type": "code",
   "execution_count": 12,
   "metadata": {},
   "outputs": [],
   "source": [
    "def get_db(st,k):\n",
    "    edges=[]\n",
    "    nodes=set()\n",
    "    for i in range(len(st)-k+1):\n",
    "        edges.append((st[i:i+k-1],st[i+1:i+k]))\n",
    "        nodes.add(st[i:i+k-1])\n",
    "        nodes.add(st[i+1:i+k])\n",
    "    return nodes,edges"
   ]
  },
  {
   "cell_type": "code",
   "execution_count": 13,
   "metadata": {},
   "outputs": [
    {
     "name": "stdout",
     "output_type": "stream",
     "text": [
      "{'GC', 'AC', 'GT', 'CG', 'TC'}\n",
      "[('AC', 'CG'), ('CG', 'GC'), ('GC', 'CG'), ('CG', 'GT'), ('GT', 'TC'), ('TC', 'CG')]\n"
     ]
    }
   ],
   "source": [
    "nodes,edges=get_db('ACGCGTCG',3)\n",
    "print(nodes)\n",
    "print(edges)"
   ]
  },
  {
   "cell_type": "code",
   "execution_count": 14,
   "metadata": {},
   "outputs": [
    {
     "name": "stdout",
     "output_type": "stream",
     "text": [
      "digraph \"DeBruijn graph\" {\n",
      " GC [label=\"GC\"] ; \n",
      " AC [label=\"AC\"] ; \n",
      " GT [label=\"GT\"] ; \n",
      " CG [label=\"CG\"] ; \n",
      " TC [label=\"TC\"] ; \n",
      " AC->CG; \n",
      " CG->GC; \n",
      " GC->CG; \n",
      " CG->GT; \n",
      " GT->TC; \n",
      " TC->CG; \n",
      "}\n",
      "\n"
     ]
    }
   ],
   "source": [
    "print(visualize_de_b('ACGCGTCG',3))"
   ]
  },
  {
   "cell_type": "markdown",
   "metadata": {},
   "source": [
    "<b>Instructions to install gvmagic at: https://libraries.io/pypi/gvmagic</b>"
   ]
  },
  {
   "cell_type": "code",
   "execution_count": 15,
   "metadata": {},
   "outputs": [],
   "source": [
    "%load_ext gvmagic"
   ]
  },
  {
   "cell_type": "code",
   "execution_count": 16,
   "metadata": {},
   "outputs": [
    {
     "data": {
      "image/svg+xml": [
       "<svg xmlns=\"http://www.w3.org/2000/svg\" xmlns:xlink=\"http://www.w3.org/1999/xlink\" width=\"161pt\" height=\"260pt\" viewBox=\"0.00 0.00 161.00 260.00\">\n",
       "<g id=\"graph0\" class=\"graph\" transform=\"scale(1 1) rotate(0) translate(4 256)\">\n",
       "<title>DeBruijn graph</title>\n",
       "<polygon fill=\"white\" stroke=\"transparent\" points=\"-4,4 -4,-256 157,-256 157,4 -4,4\"/>\n",
       "<!-- GC -->\n",
       "<g id=\"node1\" class=\"node\">\n",
       "<title>GC</title>\n",
       "<ellipse fill=\"none\" stroke=\"black\" cx=\"54\" cy=\"-234\" rx=\"27\" ry=\"18\"/>\n",
       "<text text-anchor=\"middle\" x=\"54\" y=\"-230.3\" font-family=\"Times New Roman,serif\" font-size=\"14.00\">GC</text>\n",
       "</g>\n",
       "<!-- CG -->\n",
       "<g id=\"node4\" class=\"node\">\n",
       "<title>CG</title>\n",
       "<ellipse fill=\"none\" stroke=\"black\" cx=\"54\" cy=\"-162\" rx=\"27\" ry=\"18\"/>\n",
       "<text text-anchor=\"middle\" x=\"54\" y=\"-158.3\" font-family=\"Times New Roman,serif\" font-size=\"14.00\">CG</text>\n",
       "</g>\n",
       "<!-- GC&#45;&gt;CG -->\n",
       "<g id=\"edge3\" class=\"edge\">\n",
       "<title>GC-&gt;CG</title>\n",
       "<path fill=\"none\" stroke=\"black\" d=\"M48.16,-216.41C47.3,-208.51 47.05,-198.85 47.41,-189.94\"/>\n",
       "<polygon fill=\"black\" stroke=\"black\" points=\"50.9,-190.18 48.12,-179.96 43.92,-189.68 50.9,-190.18\"/>\n",
       "</g>\n",
       "<!-- AC -->\n",
       "<g id=\"node2\" class=\"node\">\n",
       "<title>AC</title>\n",
       "<ellipse fill=\"none\" stroke=\"black\" cx=\"126\" cy=\"-234\" rx=\"27\" ry=\"18\"/>\n",
       "<text text-anchor=\"middle\" x=\"126\" y=\"-230.3\" font-family=\"Times New Roman,serif\" font-size=\"14.00\">AC</text>\n",
       "</g>\n",
       "<!-- AC&#45;&gt;CG -->\n",
       "<g id=\"edge1\" class=\"edge\">\n",
       "<title>AC-&gt;CG</title>\n",
       "<path fill=\"none\" stroke=\"black\" d=\"M111.43,-218.83C101.25,-208.94 87.48,-195.55 75.97,-184.36\"/>\n",
       "<polygon fill=\"black\" stroke=\"black\" points=\"78.41,-181.85 68.8,-177.38 73.53,-186.87 78.41,-181.85\"/>\n",
       "</g>\n",
       "<!-- GT -->\n",
       "<g id=\"node3\" class=\"node\">\n",
       "<title>GT</title>\n",
       "<ellipse fill=\"none\" stroke=\"black\" cx=\"27\" cy=\"-90\" rx=\"27\" ry=\"18\"/>\n",
       "<text text-anchor=\"middle\" x=\"27\" y=\"-86.3\" font-family=\"Times New Roman,serif\" font-size=\"14.00\">GT</text>\n",
       "</g>\n",
       "<!-- TC -->\n",
       "<g id=\"node5\" class=\"node\">\n",
       "<title>TC</title>\n",
       "<ellipse fill=\"none\" stroke=\"black\" cx=\"54\" cy=\"-18\" rx=\"27\" ry=\"18\"/>\n",
       "<text text-anchor=\"middle\" x=\"54\" y=\"-14.3\" font-family=\"Times New Roman,serif\" font-size=\"14.00\">TC</text>\n",
       "</g>\n",
       "<!-- GT&#45;&gt;TC -->\n",
       "<g id=\"edge5\" class=\"edge\">\n",
       "<title>GT-&gt;TC</title>\n",
       "<path fill=\"none\" stroke=\"black\" d=\"M33.4,-72.41C36.51,-64.34 40.33,-54.43 43.83,-45.35\"/>\n",
       "<polygon fill=\"black\" stroke=\"black\" points=\"47.13,-46.55 47.46,-35.96 40.6,-44.03 47.13,-46.55\"/>\n",
       "</g>\n",
       "<!-- CG&#45;&gt;GC -->\n",
       "<g id=\"edge2\" class=\"edge\">\n",
       "<title>CG-&gt;GC</title>\n",
       "<path fill=\"none\" stroke=\"black\" d=\"M59.88,-179.96C60.71,-187.83 60.95,-197.37 60.58,-206.19\"/>\n",
       "<polygon fill=\"black\" stroke=\"black\" points=\"57.07,-206.18 59.84,-216.41 64.06,-206.69 57.07,-206.18\"/>\n",
       "</g>\n",
       "<!-- CG&#45;&gt;GT -->\n",
       "<g id=\"edge4\" class=\"edge\">\n",
       "<title>CG-&gt;GT</title>\n",
       "<path fill=\"none\" stroke=\"black\" d=\"M47.6,-144.41C44.49,-136.34 40.67,-126.43 37.17,-117.35\"/>\n",
       "<polygon fill=\"black\" stroke=\"black\" points=\"40.4,-116.03 33.54,-107.96 33.87,-118.55 40.4,-116.03\"/>\n",
       "</g>\n",
       "<!-- TC&#45;&gt;CG -->\n",
       "<g id=\"edge6\" class=\"edge\">\n",
       "<title>TC-&gt;CG</title>\n",
       "<path fill=\"none\" stroke=\"black\" d=\"M57.65,-36.09C59.68,-46.43 61.98,-59.91 63,-72 64.34,-87.94 64.34,-92.06 63,-108 62.28,-116.5 60.93,-125.69 59.49,-133.99\"/>\n",
       "<polygon fill=\"black\" stroke=\"black\" points=\"56.03,-133.44 57.65,-143.91 62.91,-134.71 56.03,-133.44\"/>\n",
       "</g>\n",
       "</g>\n",
       "</svg>"
      ],
      "text/plain": [
       "<IPython.core.display.SVG object>"
      ]
     },
     "metadata": {},
     "output_type": "display_data"
    }
   ],
   "source": [
    "%dotstr visualize_de_b('ACGCGTCG',3) #Installation instructions of dotstr from here: https://stackoverflow.com/a/53560595"
   ]
  },
  {
   "cell_type": "code",
   "execution_count": 23,
   "metadata": {},
   "outputs": [],
   "source": [
    "from collections import defaultdict"
   ]
  },
  {
   "cell_type": "code",
   "execution_count": 24,
   "metadata": {},
   "outputs": [],
   "source": [
    "def fast_overlap(reads,kmer=6,minlength=3):\n",
    "    count=0\n",
    "    max_olen=0\n",
    "    max_a,max_b='',''\n",
    "    dict_kmers=defaultdict(set)\n",
    "    for read in reads:\n",
    "        for t in range(len(read)-kmer+1):\n",
    "            dict_kmers[read[t:t+kmer]].add(read)\n",
    " #This is a dictionary with key=kmer and value=entire read\n",
    "    overlap_dict=defaultdict(set)\n",
    "    for read in reads:\n",
    "        suffs=read[-kmer:] #Get the last kmer/ suffix of length k from the read\n",
    "        read_suffs=dict_kmers[suffs] #Get all the reads that have this suffix somewhere in their list\n",
    "        for suff in read_suffs: \n",
    "            if read!=suff:#If the original read is not equal to the current read selected:\n",
    "                olen=overlap(read,suff,minlength)\n",
    "                if olen>max_olen:\n",
    "                    max_a=read\n",
    "                    max_b=suff\n",
    "                    max_olen=olen\n",
    "    return max_a, max_b, max_olen"
   ]
  },
  {
   "cell_type": "code",
   "execution_count": 45,
   "metadata": {},
   "outputs": [],
   "source": [
    "def fast_greedy(str_list,k=3):\n",
    "    a,b,olen=fast_overlap(str_list,k)\n",
    "    i=0\n",
    "    while olen>0:\n",
    "        print('\\ri {}'.format(i), end=\"\")\n",
    "        str_list.remove(a)\n",
    "        str_list.remove(b)\n",
    "        str_list.append(a+b[olen:])\n",
    "        a,b,olen=fast_overlap(str_list,k)\n",
    "        i+=1\n",
    "    if len(str_list)==1:\n",
    "        return str_list\n",
    "    else:\n",
    "        return ''.join(str_list)"
   ]
  }
 ],
 "metadata": {
  "kernelspec": {
   "display_name": "Python 3 (ipykernel)",
   "language": "python",
   "name": "python3"
  },
  "language_info": {
   "codemirror_mode": {
    "name": "ipython",
    "version": 3
   },
   "file_extension": ".py",
   "mimetype": "text/x-python",
   "name": "python",
   "nbconvert_exporter": "python",
   "pygments_lexer": "ipython3",
   "version": "3.9.7"
  }
 },
 "nbformat": 4,
 "nbformat_minor": 4
}
