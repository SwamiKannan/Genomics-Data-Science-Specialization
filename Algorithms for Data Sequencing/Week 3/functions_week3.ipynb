{
 "cells": [
  {
   "cell_type": "markdown",
   "metadata": {},
   "source": [
    "# <center> Function compilation for algorithms in Week 2 </center>"
   ]
  },
  {
   "cell_type": "code",
   "execution_count": 1,
   "metadata": {},
   "outputs": [],
   "source": [
    "%config Completer.use_jedi = False"
   ]
  },
  {
   "cell_type": "code",
   "execution_count": 2,
   "metadata": {},
   "outputs": [],
   "source": [
    "import numpy as np"
   ]
  },
  {
   "cell_type": "markdown",
   "metadata": {},
   "source": [
    "### 1. Edit Distance calculation"
   ]
  },
  {
   "cell_type": "code",
   "execution_count": 3,
   "metadata": {},
   "outputs": [],
   "source": [
    "def edit_distance(a,b): #Calculate edit distance between string 'a' and string 'b'\n",
    "    if len(a)==0:\n",
    "        return len(b)\n",
    "    if len(b)==0:\n",
    "        return len(a)\n",
    "    else:\n",
    "        x=a[-1]\n",
    "        y=b[-1]\n",
    "        alpha=a[:-1]\n",
    "        beta=b[:-1]\n",
    "        dist_last=0 if x==y else 1\n",
    "        dist=min(edit_distance(alpha,beta)+dist_last,edit_distance(alpha,b)+1,edit_distance(beta,a)+1)\n",
    "    return dist        "
   ]
  },
  {
   "cell_type": "code",
   "execution_count": 4,
   "metadata": {},
   "outputs": [
    {
     "name": "stdout",
     "output_type": "stream",
     "text": [
      "6.07 s ± 121 ms per loop (mean ± std. dev. of 7 runs, 1 loop each)\n"
     ]
    }
   ],
   "source": [
    "x='shake spea'\n",
    "y='Shakespear'\n",
    "%timeit edit_distance(x,y)\n"
   ]
  },
  {
   "cell_type": "code",
   "execution_count": 5,
   "metadata": {},
   "outputs": [
    {
     "name": "stdout",
     "output_type": "stream",
     "text": [
      "3\n"
     ]
    }
   ],
   "source": [
    "print(edit_distance(x,y))"
   ]
  },
  {
   "cell_type": "markdown",
   "metadata": {},
   "source": [
    "### 2. Edit Distance calculation using  dynamic programming"
   ]
  },
  {
   "cell_type": "code",
   "execution_count": 6,
   "metadata": {},
   "outputs": [],
   "source": [
    "def edit_recursive(x,y):\n",
    "    matrix=np.zeros((len(x)+1,len(y)+1))\n",
    "    matrix[0,0]=0 #Setting empty coordinates to 0\n",
    "    for i in range(1,len(x)+1):\n",
    "        matrix[i,0]=matrix[i-1,0]+1\n",
    "    for i in range(1,len(x)+1):\n",
    "        for j in range(1,len(y)+1):\n",
    "            dist_last=0 if x[i-1]==y[j-1] else 1\n",
    "            matrix[i,j]=min(matrix[i-1,j-1]+dist_last,matrix[i-1,j]+1, matrix[i,j-1]+1)\n",
    "    return min(matrix[-1])"
   ]
  },
  {
   "cell_type": "code",
   "execution_count": 7,
   "metadata": {},
   "outputs": [
    {
     "name": "stdout",
     "output_type": "stream",
     "text": [
      "249 µs ± 7.72 µs per loop (mean ± std. dev. of 7 runs, 1000 loops each)\n"
     ]
    }
   ],
   "source": [
    "%timeit edit_recursive('shake spea','Shakespear')"
   ]
  },
  {
   "cell_type": "markdown",
   "metadata": {},
   "source": [
    "<b>Hence, the edit_distance() takes almost 23k times the edit_recursive()</b>"
   ]
  },
  {
   "cell_type": "code",
   "execution_count": 8,
   "metadata": {},
   "outputs": [
    {
     "name": "stdout",
     "output_type": "stream",
     "text": [
      "2.0\n"
     ]
    }
   ],
   "source": [
    "print(edit_recursive('shake spea','Shakespear'))"
   ]
  },
  {
   "cell_type": "markdown",
   "metadata": {},
   "source": [
    "On inspection we realize that it is correct, since the three substitutions need to be performed in the first string are: <br>&nbsp;&nbsp;&nbsp; 1. Change the first 's' to uppercase,<br>&nbsp;&nbsp;&nbsp; 2. Delete the \" \" character and<br>&nbsp;&nbsp;&nbsp; 3.  Add a \"r\" at the end of the string"
   ]
  },
  {
   "cell_type": "markdown",
   "metadata": {},
   "source": [
    "### 3. Global Alignment with penalty=1 across all substitution"
   ]
  },
  {
   "cell_type": "code",
   "execution_count": 9,
   "metadata": {},
   "outputs": [],
   "source": [
    "def global_alignment(pattern, text): #Expanding recursive edit distance alignment for finding patterns in text\n",
    "    matrix=np.zeros((len(pattern)+1, len(text)+1))\n",
    "    matrix[0,:]=0 #keeping the first row pertaining to epsilon completely 0 because we don't know where in the text, the pattern matching start\n",
    "    for i in range(1,len(pattern)+1):\n",
    "        matrix[i,0]=matrix[i-1,0]+1\n",
    "    for i in range(1,len(pattern)+1):\n",
    "        for j in range(1,len(text)+1):\n",
    "            dist_last=0 if pattern[i-1]==text[j-1] else 1\n",
    "            matrix[i,j]=min(matrix[i-1,j-1]+dist_last,matrix[i-1,j]+1, matrix[i,j-1]+1)\n",
    "    return min(matrix[-1,:]),matrix"
   ]
  },
  {
   "cell_type": "code",
   "execution_count": 10,
   "metadata": {},
   "outputs": [
    {
     "data": {
      "text/plain": [
       "array([[0., 0., 0., 0., 0., 0., 0., 0., 0., 0., 0., 0., 0., 0., 0., 0.],\n",
       "       [1., 0., 0., 1., 1., 1., 1., 1., 0., 1., 1., 1., 0., 0., 1., 0.],\n",
       "       [2., 1., 1., 0., 1., 2., 1., 1., 1., 0., 1., 1., 1., 1., 1., 1.],\n",
       "       [3., 2., 2., 1., 1., 2., 2., 1., 2., 1., 0., 1., 2., 2., 2., 2.],\n",
       "       [4., 3., 3., 2., 2., 2., 2., 2., 2., 2., 1., 0., 1., 2., 3., 3.],\n",
       "       [5., 4., 3., 3., 3., 3., 3., 3., 2., 3., 2., 1., 0., 1., 2., 3.],\n",
       "       [6., 5., 4., 4., 4., 4., 4., 4., 3., 3., 3., 2., 1., 0., 1., 2.],\n",
       "       [7., 6., 5., 5., 5., 5., 5., 5., 4., 4., 4., 3., 2., 1., 1., 1.],\n",
       "       [8., 7., 6., 6., 6., 6., 6., 6., 5., 5., 5., 4., 3., 2., 2., 1.]])"
      ]
     },
     "execution_count": 10,
     "metadata": {},
     "output_type": "execute_result"
    }
   ],
   "source": [
    "matrix1=global_alignment('baaabbbb','bbaddaabaaabbcb')[1]\n",
    "matrix1"
   ]
  },
  {
   "cell_type": "code",
   "execution_count": 11,
   "metadata": {},
   "outputs": [
    {
     "name": "stdout",
     "output_type": "stream",
     "text": [
      " The no. of substitutions to be done are: 1.0\n"
     ]
    }
   ],
   "source": [
    "print(' The no. of substitutions to be done are:',global_alignment('baaabbbb','bbaddaabaaabbcb')[0])"
   ]
  },
  {
   "cell_type": "code",
   "execution_count": 12,
   "metadata": {},
   "outputs": [],
   "source": [
    "def find_index(matrix,pattern,text): #matrix = completed DP matrix\n",
    "    vals=min(matrix[-1,:]) #Find the minimum value in the last row\n",
    "    x_max=np.squeeze(np.where(matrix[-1,:]==vals)) #Find the column index where 'vals' is located. Basically, anything to the right of x_max in the matrix is ignored in this operation\n",
    "    t1=text[:x_max]\n",
    "    x=x_max\n",
    "    y=len(pattern) # Basically our area of focus is the slice of the matrix matrix[:,:x_max]\n",
    "    while x>=0 and y>0:\n",
    "        diff=0 if t1[x-1]==pattern[y-1] else 1\n",
    "        check1=matrix[y-1,x-1]-diff\n",
    "        check2=matrix[y-1,x]-1\n",
    "        check3=matrix[y,x-1]-1\n",
    "        r=np.argmin([check1,check2,check3])\n",
    "        if r==0:\n",
    "            x-=1\n",
    "            y-=1\n",
    "        if r==1:\n",
    "            y-=1\n",
    "        if r==2:\n",
    "            x-=1   \n",
    "    return text[x-1:],x-1"
   ]
  },
  {
   "cell_type": "code",
   "execution_count": 13,
   "metadata": {},
   "outputs": [
    {
     "name": "stdout",
     "output_type": "stream",
     "text": [
      "The text found is : baaabbcb  and it is found at offset  7 in the text\n"
     ]
    }
   ],
   "source": [
    "text_locate, offset=find_index(matrix1,'baaabbbb','bbaddaabaaabbcb')\n",
    "print('The text found is :',text_locate ,' and it is found at offset ',offset, 'in the text')"
   ]
  },
  {
   "cell_type": "markdown",
   "metadata": {},
   "source": [
    "### 4. Global Alignment with variable penalty across mismatches and indels (insertion-deletions)"
   ]
  },
  {
   "attachments": {
    "Capture.PNG": {
     "image/png": "[encoded data removed]"
    }
   },
   "cell_type": "markdown",
   "metadata": {},
   "source": [
    "![Capture.PNG](attachment:Capture.PNG)"
   ]
  },
  {
   "cell_type": "markdown",
   "metadata": {},
   "source": [
    "We now ascribe different penalties to various substitutions e.g. replacing an \"A\" with a \"G\" has a lower penalty than an \"A\" with a \"C\" or a \"T\". Similarly, the highest penalties are awarded where a skip is done i.e. we need to do an insertion or deletion since those are very rare in the natural environment"
   ]
  },
  {
   "cell_type": "code",
   "execution_count": 14,
   "metadata": {},
   "outputs": [
    {
     "name": "stdout",
     "output_type": "stream",
     "text": [
      "[[0 4 2 4 8]\n",
      " [4 0 4 2 8]\n",
      " [2 4 0 4 8]\n",
      " [4 2 4 0 8]\n",
      " [8 8 8 8 8]]\n"
     ]
    }
   ],
   "source": [
    "bases=['A','C','G','T','s'] #This is the order in which we are making the penalty table. 's' stands for a skip\n",
    "penalty=np.empty((len(bases),len(bases)))\n",
    "penalty[0]=np.array([0,4,2,4,8])\n",
    "penalty[1]=np.array([4,0,4,2,8])\n",
    "penalty[2]=np.array([2,4,0,4,8])\n",
    "penalty[3]=np.array([4,2,4,0,8])\n",
    "penalty[4]=np.array([8,8,8,8,8])\n",
    "penalty=np.array(penalty).astype('int32')\n",
    "print(penalty)"
   ]
  },
  {
   "cell_type": "code",
   "execution_count": 15,
   "metadata": {},
   "outputs": [],
   "source": [
    "def global_alignment_penalty(pattern, text,penalty):\n",
    "    matrix=np.zeros((len(pattern)+1, len(text)+1))\n",
    "    for i in range(1,len(pattern)+1):\n",
    "        matrix[i,0]=matrix[i-1,0]+penalty[bases.index(pattern[i-1]),-1] #populating the first row .This will be prev cell + penalty for a skip (since we are mapping a base to an empty string)\n",
    "    for i in range(1,len(text)+1):\n",
    "        matrix[0,i]=matrix[0,i-1]+penalty[-1,bases.index(text[i-1])] #populating the first column .This will be prev cell + penalty for skipping the previous letter (since we are mapping a base to an empty string)\n",
    "    for i in range(1,len(pattern)+1):\n",
    "        for j in range(1,len(text)+1):\n",
    "            dist_last=penalty[bases.index(pattern[i-1]),bases.index(text[j-1])] #substitution\n",
    "            dist_hor=penalty[-1,bases.index(text[j-1])]  # So if the previous letter in the\n",
    "            dist_ver=penalty[bases.index(pattern[i-1]),-1]\n",
    "            matrix[i,j]=min(matrix[i-1,j-1]+dist_last,matrix[i-1,j]+dist_ver, matrix[i,j-1]+dist_hor)\n",
    "    return matrix[-1,-1],matrix\n",
    "    "
   ]
  },
  {
   "cell_type": "code",
   "execution_count": 16,
   "metadata": {},
   "outputs": [
    {
     "name": "stdout",
     "output_type": "stream",
     "text": [
      "2.0\n",
      "[[ 0.  8. 16. 24. 32. 40. 48. 56. 64. 72. 80. 88. 96.]\n",
      " [ 8.  0.  8. 16. 24. 32. 40. 48. 56. 64. 72. 80. 88.]\n",
      " [16.  8.  0.  8. 16. 24. 32. 40. 48. 56. 64. 72. 80.]\n",
      " [24. 16.  8.  2.  8. 16. 24. 32. 40. 48. 56. 64. 72.]\n",
      " [32. 24. 16. 10.  2. 10. 18. 26. 34. 42. 48. 56. 64.]\n",
      " [40. 32. 24. 18. 10.  2. 10. 18. 26. 34. 42. 50. 56.]\n",
      " [48. 40. 32. 26. 18. 10.  2. 10. 18. 26. 34. 42. 50.]\n",
      " [56. 48. 40. 34. 26. 18. 10.  2. 10. 18. 26. 34. 42.]\n",
      " [64. 56. 48. 40. 34. 26. 18. 10.  2. 10. 18. 26. 34.]\n",
      " [72. 64. 56. 48. 42. 34. 26. 18. 10.  2. 10. 18. 26.]\n",
      " [80. 72. 64. 56. 48. 42. 34. 26. 18. 10.  2. 10. 18.]\n",
      " [88. 80. 72. 64. 56. 50. 42. 34. 26. 18. 10.  2. 10.]\n",
      " [96. 88. 80. 72. 64. 56. 50. 42. 34. 26. 18. 10.  2.]]\n"
     ]
    }
   ],
   "source": [
    "total_penalty,matrix_penalty=global_alignment_penalty('TACCAGATTCGA', 'TATCAGATTCGA',penalty)\n",
    "print(total_penalty)\n",
    "print(matrix_penalty)"
   ]
  },
  {
   "cell_type": "markdown",
   "metadata": {},
   "source": [
    "### 5. Overlaps"
   ]
  },
  {
   "cell_type": "code",
   "execution_count": 17,
   "metadata": {},
   "outputs": [],
   "source": [
    "def overlap(a,b,minlength=3): #Find if prefix of 'b' is in suffix of 'a'\n",
    "    start=0\n",
    "    while True:\n",
    "        start = a.find(b[:minlength],start)\n",
    "        if start==-1:\n",
    "            return 0\n",
    "        if b.startswith(a[start:]): ###Only need the space where b starts\n",
    "            return len(a)-start\n",
    "        start+=1   "
   ]
  },
  {
   "cell_type": "code",
   "execution_count": 18,
   "metadata": {},
   "outputs": [
    {
     "name": "stdout",
     "output_type": "stream",
     "text": [
      "4\n",
      "3\n"
     ]
    }
   ],
   "source": [
    "print(overlap('bbaa','bbaaabbaaegaa',minlength=1))\n",
    "print(overlap('TTACGT','CGTACCGTTTACGTTTACGT',3))"
   ]
  },
  {
   "cell_type": "code",
   "execution_count": 19,
   "metadata": {},
   "outputs": [],
   "source": [
    "from itertools import permutations #<---- new library I learnt this time :)\n",
    "def naive_overlap(reads_list, min_length=3):\n",
    "    overlaps_dict={}\n",
    "    for a,b in permutations(reads_list, 2):\n",
    "        print(a,b)\n",
    "        overlap_length=overlap(a,b,min_length)\n",
    "        if overlap_length>0:\n",
    "            overlaps_dict[(a,b)]=overlap_length\n",
    "    return overlaps_dict\n",
    "            "
   ]
  },
  {
   "cell_type": "code",
   "execution_count": 20,
   "metadata": {},
   "outputs": [
    {
     "name": "stdout",
     "output_type": "stream",
     "text": [
      "ACGGATGATC GATCAAGT\n",
      "ACGGATGATC TTCACGGA\n",
      "GATCAAGT ACGGATGATC\n",
      "GATCAAGT TTCACGGA\n",
      "TTCACGGA ACGGATGATC\n",
      "TTCACGGA GATCAAGT\n",
      "{('ACGGATGATC', 'GATCAAGT'): 4, ('TTCACGGA', 'ACGGATGATC'): 5}\n"
     ]
    }
   ],
   "source": [
    "reads=['ACGGATGATC','GATCAAGT','TTCACGGA']\n",
    "print(naive_overlap(reads,3))"
   ]
  }
 ],
 "metadata": {
  "kernelspec": {
   "display_name": "Python 3 (ipykernel)",
   "language": "python",
   "name": "python3"
  },
  "language_info": {
   "codemirror_mode": {
    "name": "ipython",
    "version": 3
   },
   "file_extension": ".py",
   "mimetype": "text/x-python",
   "name": "python",
   "nbconvert_exporter": "python",
   "pygments_lexer": "ipython3",
   "version": "3.9.7"
  }
 },
 "nbformat": 4,
 "nbformat_minor": 4
}
