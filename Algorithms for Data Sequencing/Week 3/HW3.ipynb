{
 "cells": [
  {
   "cell_type": "markdown",
   "metadata": {},
   "source": [
    "# Homework 3: Algorithms for DNA sequencing"
   ]
  },
  {
   "cell_type": "code",
   "execution_count": 3,
   "metadata": {},
   "outputs": [],
   "source": [
    "import numpy as np\n",
    "import functions\n",
    "from functions import readf"
   ]
  },
  {
   "cell_type": "markdown",
   "metadata": {},
   "source": [
    "<b>Question 1:</b><br>\n",
    "What is the edit distance of the best match between pattern <i>GCTGATCGATCGTACG</i> and the excerpt of human chromosome 1?  (Don't consider reverse complements.)"
   ]
  },
  {
   "cell_type": "code",
   "execution_count": 1,
   "metadata": {},
   "outputs": [],
   "source": [
    "def edit_recursive(x,y):\n",
    "    matrix=np.zeros((len(x)+1,len(y)+1))\n",
    "    matrix[0,0]=0 #Setting empty coordinates to 0\n",
    "    for i in range(1,len(x)+1):\n",
    "        matrix[i,0]=matrix[i-1,0]+1\n",
    "    for i in range(1,len(x)+1):\n",
    "        for j in range(1,len(y)+1):\n",
    "            dist_last=0 if x[i-1]==y[j-1] else 1\n",
    "            matrix[i,j]=min(matrix[i-1,j-1]+dist_last,matrix[i-1,j]+1, matrix[i,j-1]+1)\n",
    "    return min(matrix[-1])"
   ]
  },
  {
   "cell_type": "code",
   "execution_count": 4,
   "metadata": {},
   "outputs": [],
   "source": [
    "text1=next(iter(readf('chr1.GRCh38.excerpt.fasta').values()))"
   ]
  },
  {
   "cell_type": "code",
   "execution_count": 9,
   "metadata": {},
   "outputs": [
    {
     "name": "stdout",
     "output_type": "stream",
     "text": [
      "The edit distances of the best match is  3.0\n"
     ]
    }
   ],
   "source": [
    "patt='GCTGATCGATCGTACG'\n",
    "print('The edit distances of the best match is ',edit_recursive(patt,text1))"
   ]
  },
  {
   "cell_type": "markdown",
   "metadata": {},
   "source": [
    "<b>Question 2: </b><br>\n",
    "What is the edit distance of the best match between pattern <i>GATTTACCAGATTGAG</i> and the excerpt of human chromosome 1?  (Don't consider reverse complements.)"
   ]
  },
  {
   "cell_type": "code",
   "execution_count": 11,
   "metadata": {},
   "outputs": [
    {
     "name": "stdout",
     "output_type": "stream",
     "text": [
      "The edit distances of the best match is  2.0\n"
     ]
    }
   ],
   "source": [
    "patt='GATTTACCAGATTGAG'\n",
    "print('The edit distances of the best match is ',edit_recursive(patt,text1))"
   ]
  },
  {
   "cell_type": "markdown",
   "metadata": {},
   "source": [
    "<b>Question 3:</b><br>\n",
    "In a practical, we saw a function for finding the longest exact overlap (suffix/prefix match) between two strings.<br>\n",
    "Say we are concerned only with overlaps that (a) are exact matches (no differences allowed), and (b) are at least k bases long. To make an overlap graph, we could call overlap(a, b, min_length=k) on every possible pair of reads from the dataset.  Unfortunately, that will be very slow!\n",
    "\n",
    "Consider this: Say we are using k=6, and we have a read a whose length-6 suffix is <i>GTCCTA</i>.  Say <i>GTCCTA</i> does not occur in any other read in the dataset.  In other words, the 6-mer <i>GTCCTA</i> occurs at the end of read a and nowhere else.  It follows that a's suffix cannot possibly overlap the prefix of any other read by 6 or more characters.\n",
    "\n",
    "Put another way, if we want to find the overlaps involving a suffix of read \\verb|a|a and a prefix of some other read, we can ignore any reads that don't contain the length-k suffix of a.  This is good news because it can save us a lot of work!\n",
    "\n",
    "Here is a suggestion for how to implement this idea.  You don't have to do it this way, but this might help you.  Let every k-mer in the dataset have an associated Python set object, which starts out empty.  We use a Python dictionary to associate each k-mer with its corresponding set. (1) For every k-mer in a read, we add the read to the set object corresponding to that k-mer.  If our read is <i>GATTA</i> and k=3, we would add <i>GATTA</i> to the set objects for <i>GAT</i>, <i>ATT</i> and <i>TTA</i>.  We do this for every read so that, at the end, each set contains all reads containing the corresponding k-mer.  (2) Now, for each read a, we find all overlaps involving a suffix of a.  To do this, we take a's length-k suffix, find all reads containing that k-mer (obtained from the corresponding set) and call overlap(a, b, min_length=k) for each.\n",
    "\n",
    "The most important point is that we do not call overlap(a, b, min_length=k) if b does not contain the length-k suffix of a.\n",
    "\n",
    "Download and parse the read sequences from the provided Phi-X FASTQ file. We'll just use their base sequences, so you can ignore read names and base qualities.  Also, no two reads in the FASTQ have the same sequence of bases.  This makes things simpler.\n",
    "\n",
    "https://d28rh4a8wq0iu5.cloudfront.net/ads1/data/ERR266411_1.for_asm.fastq\n",
    "\n",
    "Next, find all pairs of reads with an exact suffix/prefix match of length at least 30. Don't overlap a read with itself; if a read has a suffix/prefix match to itself, ignore that match.  Ignore reverse complements.\n",
    "\n",
    "<u>Hint 1:</u> Your function should not take much more than 15 seconds to run on this 10,000-read dataset, and maybe much less than that.  (Our solution takes about 3 seconds.) If your function is much slower, there is a problem somewhere.\n",
    "\n",
    "<u>Hint 2:</u> Remember not to overlap a read with itself. If you do, your answers will be too high.\n",
    "\n",
    "<u>Hint 3:</u> You can test your implementation by making up small examples, then checking that:<br>&nbsp;&nbsp;&nbsp;(a) your implementation runs quickly, and<br>&nbsp;&nbsp;&nbsp;(b) you get the same answer as if you had simply called overlap(a, b, min_length=k) on every pair of reads.<br>We also have provided a couple examples you can check against.\n",
    "\n",
    "Picture the overlap graph corresponding to the overlaps just calculated.  How many edges are in the graph?  In other words, how many distinct pairs of reads overlap?"
   ]
  },
  {
   "cell_type": "code",
   "execution_count": 16,
   "metadata": {},
   "outputs": [],
   "source": [
    "def overlap(a,b,minlength=3): #Find if prefix of 'b' is in suffix of 'a'\n",
    "    start=0\n",
    "    while True:\n",
    "        start = a.find(b[:minlength],start)\n",
    "        if start==-1:\n",
    "            return 0\n",
    "        if b.startswith(a[start:]): ###Only need the space where b starts\n",
    "            return len(a)-start\n",
    "        start+=1"
   ]
  },
  {
   "cell_type": "code",
   "execution_count": 17,
   "metadata": {},
   "outputs": [],
   "source": [
    "from collections import defaultdict\n",
    "def fast_overlap(reads,kmer=6,minlength=3):\n",
    "    count=0\n",
    "    dict_kmers=defaultdict(set)\n",
    "    for read in reads:\n",
    "        for t in range(len(read)-kmer+1):\n",
    "            dict_kmers[read[t:t+kmer]].add(read)\n",
    " #This is a dictionary with key=kmer and value=entire read\n",
    "    overlap_dict=defaultdict(set)\n",
    "    for read in reads:\n",
    "        suffs=read[-kmer:] #Get the last kmer/ suffix of length k from the read\n",
    "        read_suffs=dict_kmers[suffs] #Get all the reads that have this suffix somewhere in their list\n",
    "        for suff in read_suffs: \n",
    "            if read!=suff:#If the original read is not equal to the current read selected:\n",
    "                olen=overlap(read,suff,minlength)\n",
    "                if olen>0:\n",
    "                    count+=1\n",
    "                    overlap_dict[(read,suff)].add(olen)\n",
    "    return overlap_dict,count\n"
   ]
  },
  {
   "cell_type": "code",
   "execution_count": 18,
   "metadata": {},
   "outputs": [],
   "source": [
    "from functions import read_q"
   ]
  },
  {
   "cell_type": "code",
   "execution_count": 19,
   "metadata": {},
   "outputs": [],
   "source": [
    "seq,_=read_q('ERR266411_1.for_asm.fastq')"
   ]
  },
  {
   "cell_type": "code",
   "execution_count": 20,
   "metadata": {},
   "outputs": [],
   "source": [
    "dict_overlap,count_olen=fast_overlap(seq,kmer=30,minlength=30)"
   ]
  },
  {
   "cell_type": "code",
   "execution_count": 22,
   "metadata": {},
   "outputs": [
    {
     "name": "stdout",
     "output_type": "stream",
     "text": [
      "No. of edges in the graph: 904746\n"
     ]
    }
   ],
   "source": [
    "print('No. of edges in the graph:',count_olen)"
   ]
  },
  {
   "cell_type": "markdown",
   "metadata": {},
   "source": [
    "<b>Question 5.</b><br>\n",
    "Picture the overlap graph corresponding to the overlaps computed for the previous question. How many nodes in this graph have at least one outgoing edge?  (In other words, how many reads have a suffix involved in an overlap?)"
   ]
  },
  {
   "cell_type": "markdown",
   "metadata": {},
   "source": [
    "<b>Ans: </b>In the dict_overlap keys, we have a tuple of two reads: Read 1 as the primary read from all samples and Read 2 as another read which has a sub-string that matches the suffix of the read. Hence, each tuple can be considered as an outgoing edge from Read 1 to Read 2. To solve this, we need the unqiue count of Read 1s."
   ]
  },
  {
   "cell_type": "code",
   "execution_count": 25,
   "metadata": {},
   "outputs": [
    {
     "name": "stdout",
     "output_type": "stream",
     "text": [
      "The total number of nodes having atleast one outgoing edge is: 7161\n"
     ]
    }
   ],
   "source": [
    "outs=len(set([k1 for k1,k2 in dict_check.keys()]))\n",
    "print('The total number of nodes having atleast one outgoing edge is:',outs)"
   ]
  }
 ],
 "metadata": {
  "kernelspec": {
   "display_name": "Python 3 (ipykernel)",
   "language": "python",
   "name": "python3"
  },
  "language_info": {
   "codemirror_mode": {
    "name": "ipython",
    "version": 3
   },
   "file_extension": ".py",
   "mimetype": "text/x-python",
   "name": "python",
   "nbconvert_exporter": "python",
   "pygments_lexer": "ipython3",
   "version": "3.9.7"
  }
 },
 "nbformat": 4,
 "nbformat_minor": 4
}
