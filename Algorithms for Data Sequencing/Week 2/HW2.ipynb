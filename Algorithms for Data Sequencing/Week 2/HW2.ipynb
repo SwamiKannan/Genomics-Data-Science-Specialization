{
 "cells": [
  {
   "cell_type": "markdown",
   "metadata": {},
   "source": [
    "# Homework 2: Algorithms for DNA sequencing"
   ]
  },
  {
   "cell_type": "code",
   "execution_count": 1,
   "metadata": {},
   "outputs": [],
   "source": [
    "import bm_preproc\n",
    "from bm_preproc import BoyerMoore\n",
    "import functions #List of functions defined by me [Refer github for details]\n",
    "from functions import readf\n",
    "import matplotlib.pyplot as plt\n",
    "import bisect\n",
    "import numpy as np\n",
    "from scipy.stats import norm"
   ]
  },
  {
   "cell_type": "code",
   "execution_count": 2,
   "metadata": {},
   "outputs": [],
   "source": [
    "def naive_comparison_count(pattern,text):\n",
    "    occurances=[]\n",
    "    count_text=0\n",
    "    count_pattern=0\n",
    "    for t in range(len(text)-len(pattern)+1):\n",
    "        count_text+=1\n",
    "        match=True\n",
    "        for p in range(len(pattern)):\n",
    "            count_pattern+=1\n",
    "            if text[p+t]!=pattern[p]:\n",
    "                match=False\n",
    "                break\n",
    "        if match==True:\n",
    "            occurances.append(t) # record the index in t where p matches\n",
    "    return list(set(occurances)),count_text,count_pattern #also return whether a match was present or not"
   ]
  },
  {
   "cell_type": "code",
   "execution_count": 3,
   "metadata": {},
   "outputs": [],
   "source": [
    "def boyer_moore(p, p_bm, t):\n",
    "    \"\"\" Do Boyer-Moore matching. p=pattern, t=text,\n",
    "        p_bm=BoyerMoore object for p \"\"\"\n",
    "    i = 0\n",
    "    occurrences = []\n",
    "    count_text=0\n",
    "    count_pattern=0\n",
    "    while i < len(t) - len(p) + 1:\n",
    "        count_text+=1\n",
    "        shift = 1\n",
    "        mismatched = False\n",
    "        for j in range(len(p)-1, -1, -1):\n",
    "            \n",
    "            count_pattern+=1\n",
    "            if p[j] != t[i+j]:\n",
    "                skip_bc = p_bm.bad_character_rule(j, t[i+j])\n",
    "                skip_gs = p_bm.good_suffix_rule(j)\n",
    "                shift = max(shift, skip_bc, skip_gs)\n",
    "                mismatched = True\n",
    "                break\n",
    "        if not mismatched:\n",
    "            occurrences.append(i)\n",
    "            skip_gs = p_bm.match_skip()\n",
    "            shift = max(shift, skip_gs)\n",
    "        i += shift\n",
    "    return occurrences,count_text, count_pattern"
   ]
  },
  {
   "cell_type": "code",
   "execution_count": 4,
   "metadata": {},
   "outputs": [
    {
     "data": {
      "text/plain": [
       "dict_keys(['>CM000663.2_excerpt EXCERPT FROM CM000663.2 Homo sapiens chromosome 1, GRCh38 reference primary assembly\\n'])"
      ]
     },
     "execution_count": 4,
     "metadata": {},
     "output_type": "execute_result"
    }
   ],
   "source": [
    "seq_dict={}\n",
    "with open('chr1.GRCh38.excerpt.fasta','r') as f:\n",
    "    for r in f.readlines():\n",
    "        if r[0]=='>':\n",
    "            name=r\n",
    "            seq=''\n",
    "        else:\n",
    "            seq=seq+r.rstrip()\n",
    "    seq_dict[name]=seq\n",
    "seq_dict.keys()"
   ]
  },
  {
   "cell_type": "code",
   "execution_count": 5,
   "metadata": {},
   "outputs": [],
   "source": [
    "text=seq #base data"
   ]
  },
  {
   "cell_type": "code",
   "execution_count": 6,
   "metadata": {},
   "outputs": [],
   "source": [
    "alphabet='ATGC' #for all questions"
   ]
  },
  {
   "cell_type": "markdown",
   "metadata": {},
   "source": [
    "<b>Question 1:</b><br>\n",
    "How many alignments does the naive exact matching algorithm try when matching the string <i>GGCGCGGTGGCTCACGCCTGTAATCCCAGCACTTTGGGAGGCCGAGG</i> (derived from human Alu sequences) to the excerpt of human chromosome 1?  (Don't consider reverse complements.)"
   ]
  },
  {
   "cell_type": "code",
   "execution_count": 7,
   "metadata": {},
   "outputs": [
    {
     "name": "stdout",
     "output_type": "stream",
     "text": [
      "The total number of alignments based on naive exact matching is 799954\n"
     ]
    }
   ],
   "source": [
    "p = 'GGCGCGGTGGCTCACGCCTGTAATCCCAGCACTTTGGGAGGCCGAGG'\n",
    "occurrences, num_alignments, num_character_comparisons = naive_comparison_count(p, text)\n",
    "print(f'The total number of alignments based on naive exact matching is {num_alignments}')"
   ]
  },
  {
   "cell_type": "markdown",
   "metadata": {},
   "source": [
    "<br>\n",
    "<br>"
   ]
  },
  {
   "cell_type": "markdown",
   "metadata": {},
   "source": [
    "<b>Question 2: </b><br>\n",
    "How many character comparisons does the naive exact matching algorithm try when matching the string <i>GGCGCGGTGGCTCACGCCTGTAATCCCAGCACTTTGGGAGGCCGAGG</i> (derived from human Alu sequences) to the excerpt of human chromosome 1?  (Don't consider reverse complements.)"
   ]
  },
  {
   "cell_type": "code",
   "execution_count": 8,
   "metadata": {},
   "outputs": [
    {
     "name": "stdout",
     "output_type": "stream",
     "text": [
      "The total number of alignments based on naive exact matching is 984143\n"
     ]
    }
   ],
   "source": [
    "p = 'GGCGCGGTGGCTCACGCCTGTAATCCCAGCACTTTGGGAGGCCGAGG'\n",
    "occurrences, num_alignments, num_character_comparisons = naive_comparison_count(p, text)\n",
    "print(f'The total number of alignments based on naive exact matching is {num_character_comparisons}')"
   ]
  },
  {
   "cell_type": "markdown",
   "metadata": {},
   "source": [
    "<br>\n",
    "<br>"
   ]
  },
  {
   "cell_type": "markdown",
   "metadata": {},
   "source": [
    "<b>Question 3:</b><br>\n",
    "How many alignments does Boyer-Moore try when matching the string <i>GGCGCGGTGGCTCACGCCTGTAATCCCAGCACTTTGGGAGGCCGAGG</i> (derived from human Alu sequences) to the excerpt of human chromosome 1?  (Don't consider reverse complements.)"
   ]
  },
  {
   "cell_type": "code",
   "execution_count": 9,
   "metadata": {},
   "outputs": [
    {
     "name": "stdout",
     "output_type": "stream",
     "text": [
      " The number of alignments as per Boyer-Moore is 127974\n"
     ]
    }
   ],
   "source": [
    "pattern = 'GGCGCGGTGGCTCACGCCTGTAATCCCAGCACTTTGGGAGGCCGAGG'\n",
    "p_bm = BoyerMoore(pattern, alphabet)\n",
    "occurrences, num_alignments, num_character_comparisons = boyer_moore(pattern, p_bm, text)\n",
    "print(f' The number of alignments as per Boyer-Moore is {num_alignments}')"
   ]
  },
  {
   "cell_type": "markdown",
   "metadata": {},
   "source": [
    "<br>\n",
    "<br>"
   ]
  },
  {
   "cell_type": "markdown",
   "metadata": {},
   "source": [
    "<b>Question 4:</b><br>\n",
    "Index-assisted approximate matching. In practicals, we built a Python class called Index implementing an ordered-list version of the k-mer index."
   ]
  },
  {
   "cell_type": "markdown",
   "metadata": {},
   "source": [
    "We also implemented the pigeonhole principle using Boyer-Moore as our exact matching algorithm.\n",
    "\n",
    "Implement the pigeonhole principle using Index to find exact matches for the partitions. Assume P always has length 24, and that we are looking for approximate matches with up to 2 mismatches (substitutions). We will use an 8-mer index.\n",
    "\n",
    "Download the Python module for building a k-mer index. \n",
    "\n",
    "https://d28rh4a8wq0iu5.cloudfront.net/ads1/code/kmer_index.py\n",
    "\n",
    "Write a function that, given a length-24 pattern P and given an Index object built on 8-mers, finds all approximate occurrences of P within T with up to 2 mismatches. Insertions and deletions are not allowed. Don't consider any reverse complements.\n",
    "\n",
    "How many times does the string <i>GGCGCGGTGGCTCACGCCTGTAAT</i>, which is derived from a human Alu sequence, occur with up to 2 substitutions in the excerpt of human chromosome 1?  (Don't consider reverse complements here.)\n",
    "\n",
    "Hint 1: Multiple index hits might direct you to the same match multiple times, but be careful not to count a match more than once.\n",
    "\n",
    "Hint 2: You can check your work by comparing the output of your new function to that of the naive_2mm implemented in the previous module."
   ]
  },
  {
   "cell_type": "markdown",
   "metadata": {},
   "source": [
    "<br> <b>I had created my own implementation of the Index matching algorithm and have used it here. The working does not include either the kmer_index.py or the Index class</b>"
   ]
  },
  {
   "cell_type": "code",
   "execution_count": 10,
   "metadata": {},
   "outputs": [],
   "source": [
    "def create_index1(text, kmer): #Create the index of all kmers from text 't' #### This is just a copy-paste from above for easy readability\n",
    "    index={}\n",
    "    for i in range(len(text)-kmer+1):\n",
    "        if text[i:i+kmer] in index:\n",
    "            index[text[i:i+kmer]]+=[i]\n",
    "        else:\n",
    "            index[text[i:i+kmer]]=[i]\n",
    "    return index"
   ]
  },
  {
   "cell_type": "code",
   "execution_count": 11,
   "metadata": {},
   "outputs": [],
   "source": [
    "def find_all_indexes(index, pattern,kmer): #does not use bisect\n",
    "    sample=pattern[:kmer]\n",
    "    if sample in index.keys():\n",
    "        return index[sample]"
   ]
  },
  {
   "cell_type": "code",
   "execution_count": 12,
   "metadata": {},
   "outputs": [],
   "source": [
    "def verify_pattern(index, text, pattern,kmer):\n",
    "    hits=find_all_indexes(index, pattern, kmer)\n",
    "    print('hits:',hits)\n",
    "    matches=True\n",
    "    occurances=[]\n",
    "    for h in hits:\n",
    "        for i in range(len(pattern)-kmer+1):\n",
    "            if text[h+i]!=pattern[i]:\n",
    "                matches=False\n",
    "                break\n",
    "        if matches:\n",
    "            occurances.append(h)\n",
    "    return occurances"
   ]
  },
  {
   "cell_type": "code",
   "execution_count": 13,
   "metadata": {},
   "outputs": [],
   "source": [
    "def get_patterns(p, mismatches):\n",
    "    batch_number=mismatches+1\n",
    "    batch_size=int(round(len(p)//batch_number))\n",
    "    print(batch_size)\n",
    "    batches=[]\n",
    "    for i in range(0,len(p),batch_size):\n",
    "        batches.append(p[i:i+batch_size])\n",
    "    return batches"
   ]
  },
  {
   "cell_type": "code",
   "execution_count": 14,
   "metadata": {},
   "outputs": [],
   "source": [
    "def compare_batches_index(batches, text, pattern, index,kmer, mismatch_th=2):\n",
    "    complete_matches=[]\n",
    "    batch_length=len(batches[0])\n",
    "    for i,batch in enumerate(batches):\n",
    "        occurance_batch=verify_pattern(index, text, batch,kmer)\n",
    "        for m in occurance_batch:\n",
    "            if m<i*batch_length or m-(i*batch_length)+len(pattern)>len(text):                    \n",
    "                continue\n",
    "            mismatches=0\n",
    "            for j in range(0,i*batch_length):\n",
    "                if text[m-i*batch_length+j]!=pattern[j]:\n",
    "                    mismatches+=1\n",
    "                    if mismatches>mismatch_th:\n",
    "                        break\n",
    "            for j in range(min((i+1)*batch_length,len(p)),len(p)):\n",
    "                if text[m-i*batch_length+j]!=pattern[j]:\n",
    "                    mismatches+=1\n",
    "                    if mismatches>mismatch_th:\n",
    "                        break\n",
    "            if mismatches<=mismatch_th:\n",
    "                complete_matches.append(m-i*batch_length)\n",
    "    return complete_matches "
   ]
  },
  {
   "cell_type": "code",
   "execution_count": 15,
   "metadata": {},
   "outputs": [
    {
     "name": "stdout",
     "output_type": "stream",
     "text": [
      "8\n",
      "hits: [56922, 57056, 83720, 84641, 147558, 160729, 191452, 262042, 364263, 657496, 681737, 717706, 725061]\n",
      "hits: [18878, 56930, 160170, 262050, 273677, 282012, 364271, 421229, 429307, 465655, 472642, 489446, 551142, 621370, 657504, 717714, 724935]\n",
      "hits: [18749, 19182, 22413, 22548, 23019, 23154, 43143, 56938, 67379, 83736, 83879, 84657, 84791, 108126, 129010, 147574, 160745, 175326, 186012, 187671, 191468, 205397, 251106, 251240, 262058, 273685, 282020, 322751, 364279, 364412, 421237, 429315, 454348, 465663, 471982, 480517, 480658, 523101, 551150, 551843, 572212, 588494, 595557, 613475, 621507, 632321, 635947, 646504, 651539, 657512, 674072, 681753, 707167, 717722, 719434, 724943, 746636, 747375, 747511, 760505]\n",
      "Length of unqiue final occurances:19\n"
     ]
    }
   ],
   "source": [
    "p='GGCGCGGTGGCTCACGCCTGTAAT'\n",
    "index_ind=create_index1(text, 8)\n",
    "pattern_batches=get_patterns(p, 2)\n",
    "final_occurances=compare_batches_index(pattern_batches, text, p, index_ind,kmer=8, mismatch_th=2)\n",
    "print(f'Length of unqiue final occurances:{len(set(final_occurances))}')"
   ]
  },
  {
   "cell_type": "markdown",
   "metadata": {},
   "source": [
    "<b>Question 5:</b><br>\n",
    "Using the instructions given in Question 4, how many total index hits are there when searching for occurrences of <b>GGCGCGGTGGCTCACGCCTGTAAT</b> with up to 2 substitutions in the excerpt of human chromosome 1?\n",
    "\n",
    "  (Don't consider reverse complements.)\n",
    "\n",
    "Hint: You should be able to use the boyer_moore function (or the slower naive function) to double-check your answer."
   ]
  },
  {
   "cell_type": "markdown",
   "metadata": {},
   "source": [
    "<b>In the previous answer, the hits arrays for each batch are given. The answer is just the sum total of these array lengths\n",
    "\n"
   ]
  },
  {
   "cell_type": "code",
   "execution_count": 16,
   "metadata": {},
   "outputs": [
    {
     "name": "stdout",
     "output_type": "stream",
     "text": [
      "Total number of index hits: 90\n"
     ]
    }
   ],
   "source": [
    "hit1=[56922, 57056, 83720, 84641, 147558, 160729, 191452, 262042, 364263, 657496, 681737, 717706, 725061]\n",
    "hit2=[18878, 56930, 160170, 262050, 273677, 282012, 364271, 421229, 429307, 465655, 472642, 489446, 551142, 621370, 657504, 717714, 724935]\n",
    "hit3=[18749, 19182, 22413, 22548, 23019, 23154, 43143, 56938, 67379, 83736, 83879, 84657, 84791, 108126, 129010, 147574, 160745, 175326, 186012, 187671, 191468, 205397, 251106, 251240, 262058, 273685, 282020, 322751, 364279, 364412, 421237, 429315, 454348, 465663, 471982, 480517, 480658, 523101, 551150, 551843, 572212, 588494, 595557, 613475, 621507, 632321, 635947, 646504, 651539, 657512, 674072, 681753, 707167, 717722, 719434, 724943, 746636, 747375, 747511, 760505]\n",
    "print(f'Total number of index hits: {len(hit1)+len(hit2)+len(hit3)}')"
   ]
  },
  {
   "cell_type": "markdown",
   "metadata": {},
   "source": [
    "<b>Question 6: </b></br>\n",
    "Let's examine whether there is a benefit to using an index built using subsequences of T rather than substrings, as we discussed in the \"Variations on k-mer indexes\" video.  We'll consider subsequences involving every N characters.  For example, if we split ATATAT into two substring partitions, we would get partitions ATA (the first half) and TAT (second half).  But if we split ATATAT into two  subsequences  by taking every other character, we would get AAA (first, third and fifth characters) and TTT (second, fourth and sixth).\n",
    "\n",
    "Another way to visualize this is using numbers to show how each character of P is allocated to a partition.  Splitting a length-6 pattern into two substrings could be represented as 111222, and splitting into two subsequences of every other character could be represented as 121212\n",
    "\n",
    "The class SubseqIndex is a more general implementation of Index that additionally handles subsequences. It only considers subsequences that take every Nth character"
   ]
  },
  {
   "cell_type": "markdown",
   "metadata": {},
   "source": [
    "Write a function that, given a length-24 pattern P and given a SubseqIndex object built with k = 8 and ival = 3, finds all approximate occurrences of P within T with up to 2 mismatches.\n",
    "\n",
    "When using this function, how many total index hits are there when searching for GGCGCGGTGGCTCACGCCTGTAAT with up to 2 substitutions in the excerpt of human chromosome 1?  (Again, don't consider reverse complements.)"
   ]
  },
  {
   "cell_type": "markdown",
   "metadata": {},
   "source": [
    "<br> <b>I had created my own implementation of the subsequence implementation algorithm and have used it here. The working does not include the SubseqIndex class</b>"
   ]
  },
  {
   "cell_type": "code",
   "execution_count": 17,
   "metadata": {},
   "outputs": [],
   "source": [
    "def create_subsequence(text, leng,interval):#creates subsequences of length \"leng\" whose initial chars are \"interval\" values apart\n",
    "    subsequence=[]\n",
    "    for i in range(len(text)):\n",
    "        str1=''\n",
    "        for r in range(i,len(text),interval):\n",
    "            str1+=text[r]\n",
    "            if len(str1)>=leng:\n",
    "                break\n",
    "        if len(str1)==leng:\n",
    "            subsequence.append((str1,i))\n",
    "        i+=1\n",
    "    return subsequence"
   ]
  },
  {
   "cell_type": "code",
   "execution_count": 18,
   "metadata": {},
   "outputs": [],
   "source": [
    "def create_subsequence_index(text, leng, interval):\n",
    "    index={}\n",
    "    subsequences=create_subsequence(text, leng, interval)\n",
    "    subsequence_key,subsequence_value=[i for i in zip(*subsequences)]\n",
    "    for i in range(len(subsequence_key)):\n",
    "        if subsequence_key[i] in index:\n",
    "            index[subsequence_key[i]].append(subsequence_value[i])\n",
    "        else:\n",
    "            index[subsequence_key[i]]=[subsequence_value[i]]\n",
    "    return index,subsequences  "
   ]
  },
  {
   "cell_type": "code",
   "execution_count": 19,
   "metadata": {},
   "outputs": [],
   "source": [
    "def find_subsequence_index(index, pattern, leng, interval):\n",
    "    occurances=[]\n",
    "    subsequences_pattern=create_subsequence(pattern, leng, interval)\n",
    "    subsequence_key_pattern,_=[i for i in zip(*subsequences_pattern)]\n",
    "    count=0\n",
    "    for sub in subsequence_key_pattern:\n",
    "        if sub in index[0]:\n",
    "            occurances.append(index[0][sub])\n",
    "        count+=1\n",
    "    return occurances,len(subsequence_key_pattern),count"
   ]
  },
  {
   "cell_type": "code",
   "execution_count": 20,
   "metadata": {},
   "outputs": [],
   "source": [
    "def verify_subsequence_pattern(index, text,pattern, leng, interval,mismatch_threshold=1):\n",
    "    hits, pattern_key_length, total_key_matches=find_subsequence_index(index, pattern, leng, interval)\n",
    "    matches=True\n",
    "    occurances=[]\n",
    "    index_hits=0\n",
    "    for h in hits:\n",
    "        h=list(h)\n",
    "        for i in h:\n",
    "            index_hits+=1\n",
    "            mismatch_count=0\n",
    "            for j in range(interval+1):\n",
    "                if text[i+j]!=pattern[j]:\n",
    "                    mismatch_count+=1\n",
    "                    if mismatch_count>mismatch_threshold:\n",
    "                        matches=False\n",
    "                        break\n",
    "        if matches:\n",
    "            occurances.append(h)\n",
    "    return np.squeeze(occurances).tolist(),index_hits"
   ]
  },
  {
   "cell_type": "code",
   "execution_count": 21,
   "metadata": {},
   "outputs": [
    {
     "name": "stdout",
     "output_type": "stream",
     "text": [
      "Total number of hits is: 79\n"
     ]
    }
   ],
   "source": [
    "indexq=create_subsequence_index(text, 8, 3)\n",
    "occurances, count_hits=verify_subsequence_pattern(indexq, text,'GGCGCGGTGGCTCACGCCTGTAAT',8, 3,2)\n",
    "print('Total number of hits is:',count_hits)"
   ]
  }
 ],
 "metadata": {
  "kernelspec": {
   "display_name": "Python 3 (ipykernel)",
   "language": "python",
   "name": "python3"
  },
  "language_info": {
   "codemirror_mode": {
    "name": "ipython",
    "version": 3
   },
   "file_extension": ".py",
   "mimetype": "text/x-python",
   "name": "python",
   "nbconvert_exporter": "python",
   "pygments_lexer": "ipython3",
   "version": "3.9.7"
  }
 },
 "nbformat": 4,
 "nbformat_minor": 4
}
