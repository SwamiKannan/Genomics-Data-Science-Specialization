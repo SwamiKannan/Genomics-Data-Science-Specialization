{
 "cells": [
  {
   "cell_type": "markdown",
   "metadata": {},
   "source": [
    "# <center> Week 2 - DNA Sequencing Algorithms </center>"
   ]
  },
  {
   "cell_type": "markdown",
   "metadata": {},
   "source": [
    "### <center> My implementation of various algorithms explained in the lecture </center>"
   ]
  },
  {
   "cell_type": "code",
   "execution_count": 1,
   "metadata": {},
   "outputs": [],
   "source": [
    "import bm_preproc\n",
    "from bm_preproc import BoyerMoore #import from class lecture on BoyerMoore\n",
    "import functions\n",
    "from functions import readf\n",
    "import matplotlib.pyplot as plt\n",
    "import bisect\n",
    "import numpy as np\n",
    "from scipy.stats import norm"
   ]
  },
  {
   "cell_type": "code",
   "execution_count": 2,
   "metadata": {},
   "outputs": [],
   "source": [
    "alphabet='ATCG' #dictionary of letters for all BoyerMoore's object"
   ]
  },
  {
   "cell_type": "markdown",
   "metadata": {},
   "source": [
    "### Processing of pattern 'p' and not processing text 't' (Online processing)"
   ]
  },
  {
   "cell_type": "code",
   "execution_count": 3,
   "metadata": {},
   "outputs": [],
   "source": [
    "def boyer_moore(pattern,text,bm_obj):\n",
    "    occurances=[]\n",
    "    for t in range(len(text)-len(pattern)+1):\n",
    "        mismatch=False\n",
    "        for p in reversed(range(len(pattern))):\n",
    "            if text[t+p]!=pattern[p]:\n",
    "                shift_bad_char=bm_obj.bad_character_rule(p, pattern[p])\n",
    "                shift_good_suffix=bm_obj.good_suffix_rule(p)\n",
    "                shift=max(shift_bad_char,shift_good_suffix,1)\n",
    "                mismatch=True\n",
    "                break\n",
    "        if not mismatch:\n",
    "            occurances.append(t)\n",
    "            shift=max(1,bm_obj.match_skip())\n",
    "        t+=shift\n",
    "    return list(set(occurances))"
   ]
  },
  {
   "cell_type": "code",
   "execution_count": 4,
   "metadata": {},
   "outputs": [],
   "source": [
    "t='GCTACGATCTAGAATCTA'\n",
    "p='TCTA'\n",
    "\n",
    "bm=BoyerMoore(p,alphabet)"
   ]
  },
  {
   "cell_type": "code",
   "execution_count": 5,
   "metadata": {},
   "outputs": [
    {
     "name": "stdout",
     "output_type": "stream",
     "text": [
      "[14, 7]\n"
     ]
    }
   ],
   "source": [
    "print(boyer_moore(p,t,bm))"
   ]
  },
  {
   "cell_type": "markdown",
   "metadata": {},
   "source": [
    "### Processing of processing text 't' (Offline processing)"
   ]
  },
  {
   "cell_type": "markdown",
   "metadata": {},
   "source": [
    "#### Indexing"
   ]
  },
  {
   "cell_type": "code",
   "execution_count": 6,
   "metadata": {},
   "outputs": [],
   "source": [
    "#Understanding the bisect function. Basically, bisect_left tells us the left most position in text where we can insert a specific string \n",
    "import bisect\n",
    "def find_insertion(text, pattern):\n",
    "    check=bisect.bisect_left(sorted(text),pattern) #Sorted is required to ensure that the correct position is chosen. Analogy to a dictionary: if a dictionary wasn't sorted, we wouldn't be able to find the word\n",
    "    return check,sorted(text)\n",
    "#We use pattern[0] because later, we need to use this to find the position in an index which is an array of (kmer,position of that kmer in text)"
   ]
  },
  {
   "cell_type": "code",
   "execution_count": 7,
   "metadata": {},
   "outputs": [
    {
     "name": "stdout",
     "output_type": "stream",
     "text": [
      "(27, ['a', 'a', 'a', 'a', 'b', 'b', 'b', 'c', 'c', 'c', 'd', 'e', 'e', 'e', 'e', 'e', 'e', 'f', 'f', 'f', 'g', 'g', 'h', 'j', 'j', 'j', 'j', 'w', 'w'])\n"
     ]
    }
   ],
   "source": [
    "print(find_insertion('abcefweejdfabcwefgjahabcegjej','lmn')) #Use -1 only for finding within a string. When we use an index, this will be included in the index"
   ]
  },
  {
   "cell_type": "markdown",
   "metadata": {},
   "source": [
    "Hence, find_insertion() finds the insertion point at index / offset 4 which is between the last instance of 'a' and first instance of 'b'"
   ]
  },
  {
   "cell_type": "markdown",
   "metadata": {},
   "source": [
    "### K-mer lookup in the text index"
   ]
  },
  {
   "cell_type": "markdown",
   "metadata": {},
   "source": [
    "<ol><li> We create an index of all combination of k substrings (integer k < len(pattern)) of the text and create a lookup table of the same (containing the k-mer and its index/ offset. ----> <b>create_index() </b></li>\n",
    "<li> We then create similar k-mers of the pattern and look up the index of the pattern k-mer to see if it exists. ----> <b>find_all_indexes()</b></li>\n",
    "<li> Once we confirm that the kmer exists, we use the same to VERIFY if the rest of the pattern is also present at the offset ---> <b>verify_pattern()</b></li></ol>"
   ]
  },
  {
   "cell_type": "code",
   "execution_count": 8,
   "metadata": {},
   "outputs": [],
   "source": [
    "def create_index(text, kmer): #Create the index of all kmers from text 't'\n",
    "    index={}\n",
    "    for i in range(len(text)-kmer+1):\n",
    "        if text[i:i+kmer] in index:\n",
    "            index[text[i:i+kmer]]+=[i]\n",
    "        else:\n",
    "            index[text[i:i+kmer]]=[i]\n",
    "    return index"
   ]
  },
  {
   "cell_type": "markdown",
   "metadata": {},
   "source": [
    "find_insertion_index() only provides us with the first insertion point, if any, for the pattern <b> k-mer </b>. We still need to perform verification for the rest of the pattern"
   ]
  },
  {
   "cell_type": "code",
   "execution_count": 9,
   "metadata": {},
   "outputs": [],
   "source": [
    "def find_all_indexes(index, pattern,kmer): #does not use bisect\n",
    "    sample=pattern[:kmer]\n",
    "    if sample in index.keys():\n",
    "        return index[sample]"
   ]
  },
  {
   "cell_type": "code",
   "execution_count": 10,
   "metadata": {},
   "outputs": [],
   "source": [
    "def verify_pattern(index, text, pattern,kmer):\n",
    "    hits=find_all_indexes(index, pattern, kmer)\n",
    "    print('hits:',hits)\n",
    "    matches=True\n",
    "    occurances=[]\n",
    "    for h in hits:\n",
    "        for i in range(len(pattern)-kmer+1):\n",
    "            if text[h+i]!=pattern[i]:\n",
    "                matches=False\n",
    "                break\n",
    "        if matches:\n",
    "            occurances.append(h)\n",
    "    return occurances"
   ]
  },
  {
   "cell_type": "code",
   "execution_count": 11,
   "metadata": {},
   "outputs": [
    {
     "name": "stdout",
     "output_type": "stream",
     "text": [
      "hits: [7, 14]\n",
      "[7, 14]\n"
     ]
    }
   ],
   "source": [
    "text_sample='GCTACGATCTAGAATCTA'\n",
    "pattern_sample='TCTA'\n",
    "kmer=2\n",
    "index=create_index(text_sample, kmer)\n",
    "print(verify_pattern(index,text_sample,pattern_sample,kmer))"
   ]
  },
  {
   "cell_type": "markdown",
   "metadata": {},
   "source": [
    "### Approximate Matching"
   ]
  },
  {
   "cell_type": "markdown",
   "metadata": {},
   "source": [
    "### Sub-sequence Matching"
   ]
  },
  {
   "cell_type": "markdown",
   "metadata": {},
   "source": [
    "Subsequence matching would pretty much follow the K-mer lookup process except we need an additional function that creates the logic for the substrings"
   ]
  },
  {
   "cell_type": "code",
   "execution_count": 12,
   "metadata": {},
   "outputs": [],
   "source": [
    "def create_subsequence(text, leng,interval):#creates subsequences of length \"leng\" whose initial chars are \"interval\" values apart\n",
    "    subsequence=[]\n",
    "    for i in range(len(text)):\n",
    "        str1=''\n",
    "        for r in range(i,len(text),interval):\n",
    "            str1+=text[r]\n",
    "            if len(str1)>=leng:\n",
    "                break\n",
    "        if len(str1)==leng:\n",
    "            subsequence.append((str1,i))\n",
    "        i+=1\n",
    "    return subsequence"
   ]
  },
  {
   "cell_type": "code",
   "execution_count": 13,
   "metadata": {},
   "outputs": [
    {
     "name": "stdout",
     "output_type": "stream",
     "text": [
      "[('AAA', 0), ('TTT', 1), ('AAA', 2), ('TTT', 3), ('AAA', 4), ('TTT', 5), ('AAA', 6), ('TTT', 7)]\n"
     ]
    }
   ],
   "source": [
    "print(create_subsequence('ATATATATATAT',3,2))"
   ]
  },
  {
   "cell_type": "code",
   "execution_count": 14,
   "metadata": {},
   "outputs": [],
   "source": [
    "def create_subsequence_index(text, leng, interval):\n",
    "    index={}\n",
    "    subsequences=create_subsequence(text, leng, interval)\n",
    "    subsequence_key,subsequence_value=[i for i in zip(*subsequences)]\n",
    "    for i in range(len(subsequence_key)):\n",
    "        if subsequence_key[i] in index:\n",
    "            index[subsequence_key[i]].append(subsequence_value[i])\n",
    "        else:\n",
    "            index[subsequence_key[i]]=[subsequence_value[i]]\n",
    "    return index,subsequences        "
   ]
  },
  {
   "cell_type": "code",
   "execution_count": 15,
   "metadata": {},
   "outputs": [],
   "source": [
    "def find_subsequence_index(index, pattern, leng, interval):\n",
    "    occurances=[]\n",
    "    subsequences_pattern=create_subsequence(pattern, leng, interval)\n",
    "    subsequence_key_pattern,_=[i for i in zip(*subsequences_pattern)]\n",
    "    print('pattern_sub',subsequence_key_pattern)\n",
    "    count=0\n",
    "    for sub in subsequence_key_pattern:\n",
    "        if sub in index[0]:\n",
    "            occurances.append(index[0][sub])\n",
    "        count+=1\n",
    "    return occurances,len(subsequence_key_pattern),count"
   ]
  },
  {
   "cell_type": "code",
   "execution_count": 16,
   "metadata": {},
   "outputs": [],
   "source": [
    "def verify_subsequence_pattern(index, text,pattern, leng, interval,mismatch_threshold=1):\n",
    "    hits, pattern_key_length, total_key_matches=find_subsequence_index(index, pattern, leng, interval)\n",
    "    print('hits',hits)\n",
    "    matches=True\n",
    "    occurances=[]\n",
    "    index_hits=0\n",
    "    for h in hits:\n",
    "        h=list(h)\n",
    "        for i in h:\n",
    "            index_hits+=1\n",
    "            mismatch_count=0\n",
    "            for j in range(interval+1):\n",
    "                if text[i+j]!=pattern[j]:\n",
    "                    mismatch_count+=1\n",
    "                    if mismatch_count>mismatch_threshold:\n",
    "                        matches=False\n",
    "                        break\n",
    "        if matches:\n",
    "            occurances.append(h)\n",
    "    return np.squeeze(occurances).tolist(),index_hits"
   ]
  },
  {
   "cell_type": "code",
   "execution_count": 17,
   "metadata": {},
   "outputs": [],
   "source": [
    "text1=next(iter(readf('chr1.GRCh38.excerpt.fasta').values()))"
   ]
  },
  {
   "cell_type": "code",
   "execution_count": 18,
   "metadata": {},
   "outputs": [],
   "source": [
    "indexq=create_subsequence_index(text1, 8, 3)"
   ]
  },
  {
   "cell_type": "code",
   "execution_count": 19,
   "metadata": {},
   "outputs": [
    {
     "name": "stdout",
     "output_type": "stream",
     "text": [
      "pattern_sub ('GGGGCGTA', 'GCTCACGA', 'CGGTCCTT')\n",
      "hits [[56922, 67486, 83863, 84641, 84775, 124024, 147558, 191452, 199607, 262042, 262174, 273669, 322735, 364263, 421354, 454332, 465647, 471966, 472634, 489019, 558456, 579737, 596898, 635931, 651523, 657496, 658702, 681737, 707151, 712449, 717706, 719418, 719557, 746620, 747359], [22398, 32640, 56923, 84642, 100012, 108111, 137575, 147559, 151719, 160163, 160730, 262043, 273670, 364264, 366819, 421222, 429300, 465648, 479031, 551135, 551828, 635932, 657497, 681738, 717707, 724928, 745641, 783347, 794643], [23005, 56924, 141048, 160731, 191454, 262044, 349191, 364265, 429301, 657498, 704733, 717708, 724929, 747361, 766421]]\n"
     ]
    },
    {
     "data": {
      "text/plain": [
       "([56922,\n",
       "  67486,\n",
       "  83863,\n",
       "  84641,\n",
       "  84775,\n",
       "  124024,\n",
       "  147558,\n",
       "  191452,\n",
       "  199607,\n",
       "  262042,\n",
       "  262174,\n",
       "  273669,\n",
       "  322735,\n",
       "  364263,\n",
       "  421354,\n",
       "  454332,\n",
       "  465647,\n",
       "  471966,\n",
       "  472634,\n",
       "  489019,\n",
       "  558456,\n",
       "  579737,\n",
       "  596898,\n",
       "  635931,\n",
       "  651523,\n",
       "  657496,\n",
       "  658702,\n",
       "  681737,\n",
       "  707151,\n",
       "  712449,\n",
       "  717706,\n",
       "  719418,\n",
       "  719557,\n",
       "  746620,\n",
       "  747359],\n",
       " 79)"
      ]
     },
     "execution_count": 19,
     "metadata": {},
     "output_type": "execute_result"
    }
   ],
   "source": [
    "verify_subsequence_pattern(indexq, text1,'GGCGCGGTGGCTCACGCCTGTAAT',8, 3,2)"
   ]
  },
  {
   "cell_type": "markdown",
   "metadata": {},
   "source": [
    "##### Sample Check 1"
   ]
  },
  {
   "cell_type": "code",
   "execution_count": 20,
   "metadata": {},
   "outputs": [],
   "source": [
    "text_eg='to-morrow and to-morrow and to-morrow creeps in this petty pace'\n",
    "index_eg=create_subsequence_index(text_eg, 8, 3)"
   ]
  },
  {
   "cell_type": "code",
   "execution_count": 21,
   "metadata": {},
   "outputs": [
    {
     "name": "stdout",
     "output_type": "stream",
     "text": [
      "pattern_sub ('tmr dooo', 'oooa -rw', '-rwntmr ')\n",
      "hits [[0, 14], [1, 15], [2, 16]]\n"
     ]
    },
    {
     "data": {
      "text/plain": [
       "([0, 14], 6)"
      ]
     },
     "execution_count": 21,
     "metadata": {},
     "output_type": "execute_result"
    }
   ],
   "source": [
    "occurances=verify_subsequence_pattern(index_eg, text_eg,'to-morrow and to-morrow ',8, 3,2)\n",
    "occurances"
   ]
  },
  {
   "cell_type": "markdown",
   "metadata": {},
   "source": [
    "##### Sample check 2"
   ]
  },
  {
   "cell_type": "code",
   "execution_count": 22,
   "metadata": {},
   "outputs": [],
   "source": [
    "t = open('pg1110.txt').read()\n",
    "p = 'English measure backward'\n",
    "index_sp=create_subsequence_index(t, 8, 3)"
   ]
  },
  {
   "cell_type": "code",
   "execution_count": 23,
   "metadata": {},
   "outputs": [
    {
     "name": "stdout",
     "output_type": "stream",
     "text": [
      "pattern_sub ('Elheu ca', 'ni arbkr', 'gsmseawd')\n",
      "hits [[132576], [132577], [132578]]\n"
     ]
    },
    {
     "data": {
      "text/plain": [
       "(132576, 3)"
      ]
     },
     "execution_count": 23,
     "metadata": {},
     "output_type": "execute_result"
    }
   ],
   "source": [
    "occurances=verify_subsequence_pattern(index_sp, t,p,8, 3,2)\n",
    "occurances"
   ]
  },
  {
   "cell_type": "markdown",
   "metadata": {},
   "source": [
    "### Pigeonhole"
   ]
  },
  {
   "cell_type": "markdown",
   "metadata": {},
   "source": [
    "Basically, we need to divide the pattern into (n+1) non-overlapping but mutually exclusive lists where n is the maximum number of mismatches allowed. Then, we check every one of these lists to the text and check if atleast one of these lists are an exact match (probably using Boyle Moore)"
   ]
  },
  {
   "cell_type": "markdown",
   "metadata": {},
   "source": [
    "##### Use BoyerMoore naive lookup"
   ]
  },
  {
   "cell_type": "code",
   "execution_count": 24,
   "metadata": {},
   "outputs": [],
   "source": [
    "def get_BM_model(p,alphabet='ATGC'):\n",
    "    return BoyerMoore(p,alphabet)"
   ]
  },
  {
   "cell_type": "code",
   "execution_count": 25,
   "metadata": {},
   "outputs": [],
   "source": [
    "def get_patterns(p, mismatches):\n",
    "    batch_number=mismatches+1\n",
    "    batch_size=int(round(len(p)//batch_number))\n",
    "    print(batch_size)\n",
    "    batches=[]\n",
    "    for i in range(0,len(p),batch_size):\n",
    "        batches.append(p[i:i+batch_size])\n",
    "    return batches\n",
    "                       "
   ]
  },
  {
   "cell_type": "code",
   "execution_count": 26,
   "metadata": {},
   "outputs": [],
   "source": [
    "def compare_batches_bm(batches, text, pattern, mismatch_th=2):\n",
    "    complete_matches=set()\n",
    "    batch_length=len(batches[0])\n",
    "    for i,batch in enumerate(batches):\n",
    "        bm_obj=BoyerMoore(batch,alphabet='ATCG')\n",
    "        occurance_batch=boyer_moore(batch,text,bm_obj)\n",
    "        for m in occurance_batch:\n",
    "            if m<i*batch_length or m-(i*batch_length)+len(pattern)>len(text):                    \n",
    "                continue\n",
    "            mismatches=0\n",
    "            for j in range(0,i*batch_length):\n",
    "                if text[m-i*batch_length+j]!=pattern[j]:\n",
    "                    mismatches+=1\n",
    "                    if mismatches>mismatch_th:\n",
    "                        break\n",
    "            for j in range(min((i+1)*batch_length,len(p)),len(p)):\n",
    "                if text[m-i*batch_length+j]!=pattern[j]:\n",
    "                    mismatches+=1\n",
    "                    if mismatches>mismatch_th:\n",
    "                        break\n",
    "            if mismatches<=mismatch_th:\n",
    "                complete_matches.append(m-i*batch_length)\n",
    "    return list(complete_matches)      "
   ]
  },
  {
   "cell_type": "code",
   "execution_count": 27,
   "metadata": {},
   "outputs": [
    {
     "name": "stdout",
     "output_type": "stream",
     "text": [
      "2\n",
      "['AA', 'CT', 'TG']\n",
      "batch AA\n",
      "Occ batch: [5]\n",
      "5 fits! with value 0\n",
      "Reference: 5\n",
      "batch CT\n",
      "Occ batch: [2]\n",
      "2 fits! with value 1\n",
      "Reference: 0\n",
      "batch TG\n",
      "Occ batch: [9]\n",
      "9 fits! with value 2\n",
      "Reference: 5\n"
     ]
    },
    {
     "data": {
      "text/plain": [
       "[0, 5]"
      ]
     },
     "execution_count": 27,
     "metadata": {},
     "output_type": "execute_result"
    }
   ],
   "source": [
    "t='CACTTAATTTG'\n",
    "p='AACTTG'\n",
    "pattern_batches=get_patterns(p,mismatches=2)\n",
    "print(pattern_batches)\n",
    "final=compare_batches_bm(pattern_batches, t, p, mismatch_th=2)\n",
    "print(len(final))\n",
    "print(len(set(final)))"
   ]
  },
  {
   "cell_type": "markdown",
   "metadata": {},
   "source": [
    "##### Use Index Matching"
   ]
  },
  {
   "cell_type": "code",
   "execution_count": 28,
   "metadata": {},
   "outputs": [],
   "source": [
    "def create_index1(text, kmer): #Create the index of all kmers from text 't' #### This is just a copy-paste from above for easy readability\n",
    "    index={}\n",
    "    for i in range(len(text)-kmer+1):\n",
    "        if text[i:i+kmer] in index:\n",
    "            index[text[i:i+kmer]]+=[i]\n",
    "        else:\n",
    "            index[text[i:i+kmer]]=[i]\n",
    "    return index"
   ]
  },
  {
   "cell_type": "code",
   "execution_count": 61,
   "metadata": {},
   "outputs": [],
   "source": [
    "def compare_batches_index(batches, text, pattern, index,kmer, mismatch_th=2):\n",
    "    complete_matches=[]\n",
    "    batch_length=len(batches[0])\n",
    "    for i,batch in enumerate(batches):\n",
    "        occurance_batch=verify_pattern(index, text, batch,kmer)\n",
    "        for m in occurance_batch:\n",
    "            if m<i*batch_length or m-(i*batch_length)+len(pattern)>len(text):                    \n",
    "                continue\n",
    "            mismatches=0\n",
    "            for j in range(0,i*batch_length):\n",
    "                if text[m-i*batch_length+j]!=pattern[j]:\n",
    "                    mismatches+=1\n",
    "                    if mismatches>mismatch_th:\n",
    "                        break\n",
    "            for j in range(min((i+1)*batch_length,len(p)),len(p)):\n",
    "                if text[m-i*batch_length+j]!=pattern[j]:\n",
    "                    mismatches+=1\n",
    "                    if mismatches>mismatch_th:\n",
    "                        break\n",
    "            if mismatches<=mismatch_th:\n",
    "                complete_matches.append(m-i*batch_length)\n",
    "    return complete_matches "
   ]
  },
  {
   "cell_type": "code",
   "execution_count": 73,
   "metadata": {},
   "outputs": [
    {
     "name": "stdout",
     "output_type": "stream",
     "text": [
      "2\n",
      "hits: [5]\n",
      "hits: [2]\n",
      "hits: [9]\n",
      "[0, 5]\n",
      "Length of all final occurances: 3\n",
      "Length of unqiue final occurances:2\n"
     ]
    }
   ],
   "source": [
    "t='CACTTAATTTG'\n",
    "p='AACTTG'\n",
    "index_ind=create_index1(t, 2)\n",
    "pattern_batches=get_patterns(p,mismatches=2)\n",
    "final_occurances=compare_batches_index(pattern_batches, t, p, index_ind,kmer=2, mismatch_th=2)\n",
    "print(list(set(final_occurances)))\n",
    "print(f'Length of all final occurances: {len(final_occurances)}')\n",
    "print(f'Length of unqiue final occurances:{len(set(final_occurances))}')"
   ]
  },
  {
   "cell_type": "markdown",
   "metadata": {},
   "source": [
    "### < Diversion > :)"
   ]
  },
  {
   "cell_type": "markdown",
   "metadata": {},
   "source": [
    "##### For the Index creation and querying, the course uses an array of tuples. I tried to compare that process against using a dict{} approach for the same by analysing the <u> chr1.GRCh38.excerpt.fasta </u> file"
   ]
  },
  {
   "cell_type": "code",
   "execution_count": 33,
   "metadata": {},
   "outputs": [],
   "source": [
    "text1=readf('chr1.GRCh38.excerpt.fasta').values()"
   ]
  },
  {
   "cell_type": "markdown",
   "metadata": {},
   "source": [
    "##### Option 1: Using a dictionary structure"
   ]
  },
  {
   "cell_type": "code",
   "execution_count": 48,
   "metadata": {},
   "outputs": [
    {
     "name": "stdout",
     "output_type": "stream",
     "text": [
      "564 ns ± 16 ns per loop (mean ± std. dev. of 7 runs, 1000000 loops each)\n"
     ]
    }
   ],
   "source": [
    "%timeit create_index(text1,3) #Index creation speed"
   ]
  },
  {
   "cell_type": "code",
   "execution_count": 49,
   "metadata": {},
   "outputs": [],
   "source": [
    "index1=create_index(text1,3)"
   ]
  },
  {
   "cell_type": "code",
   "execution_count": 50,
   "metadata": {},
   "outputs": [
    {
     "name": "stdout",
     "output_type": "stream",
     "text": [
      "446 ns ± 23.6 ns per loop (mean ± std. dev. of 7 runs, 1000000 loops each)\n"
     ]
    }
   ],
   "source": [
    "%timeit find_all_indexes(index1,'TAG',3)"
   ]
  },
  {
   "cell_type": "code",
   "execution_count": 51,
   "metadata": {},
   "outputs": [
    {
     "name": "stdout",
     "output_type": "stream",
     "text": [
      "None\n"
     ]
    }
   ],
   "source": [
    "print(find_all_indexes(index1,'TAG',3))"
   ]
  },
  {
   "cell_type": "markdown",
   "metadata": {},
   "source": [
    "##### Option 2: Using a list lookup"
   ]
  },
  {
   "cell_type": "code",
   "execution_count": 52,
   "metadata": {},
   "outputs": [],
   "source": [
    "from kmer_index import Index"
   ]
  },
  {
   "cell_type": "code",
   "execution_count": 53,
   "metadata": {},
   "outputs": [
    {
     "name": "stdout",
     "output_type": "stream",
     "text": [
      "1.06 µs ± 44.2 ns per loop (mean ± std. dev. of 7 runs, 1000000 loops each)\n"
     ]
    }
   ],
   "source": [
    "%timeit index2=Index(text1,3)"
   ]
  },
  {
   "cell_type": "code",
   "execution_count": 54,
   "metadata": {},
   "outputs": [],
   "source": [
    "index2=Index(text1,3)"
   ]
  },
  {
   "cell_type": "code",
   "execution_count": 55,
   "metadata": {},
   "outputs": [
    {
     "name": "stdout",
     "output_type": "stream",
     "text": [
      "705 ns ± 43.3 ns per loop (mean ± std. dev. of 7 runs, 1000000 loops each)\n"
     ]
    }
   ],
   "source": [
    "%timeit index2.query('TAG')"
   ]
  },
  {
   "cell_type": "code",
   "execution_count": 56,
   "metadata": {},
   "outputs": [
    {
     "name": "stdout",
     "output_type": "stream",
     "text": [
      "[]\n"
     ]
    }
   ],
   "source": [
    "print(index2.query('TTTTCTATTATCA'))"
   ]
  },
  {
   "cell_type": "code",
   "execution_count": 58,
   "metadata": {},
   "outputs": [
    {
     "data": {
      "image/png": "[encoded data removed]",
      "text/plain": [
       "<Figure size 432x288 with 1 Axes>"
      ]
     },
     "metadata": {
      "needs_background": "light"
     },
     "output_type": "display_data"
    }
   ],
   "source": [
    "x = np.arange(5, 15, 0.001)\n",
    "plt.plot(x, norm.pdf(x, 5.64, 0.16),color='red', label='Approach 1')\n",
    "plt.plot(x, norm.pdf(x, 10.6, 0.442),color='green',label='Approach 2')\n",
    "plt.title('Difference between Approach 1 and approach 2 - Index creation')\n",
    "plt.legend()\n",
    "plt.show()"
   ]
  },
  {
   "cell_type": "code",
   "execution_count": 59,
   "metadata": {},
   "outputs": [
    {
     "data": {
      "image/png": "[encoded data removed]",
      "text/plain": [
       "<Figure size 432x288 with 1 Axes>"
      ]
     },
     "metadata": {
      "needs_background": "light"
     },
     "output_type": "display_data"
    }
   ],
   "source": [
    "x = np.arange(0, 10, 0.001)\n",
    "plt.plot(x, norm.pdf(x, 4.46, 0.236),color='red',label='Approach 1')\n",
    "plt.plot(x, norm.pdf(x, 7.05, 0.433),color='green',label='Approach 2')\n",
    "plt.title('Difference between Approach 1 and Approach 2 - Query')\n",
    "plt.legend()\n",
    "plt.show()"
   ]
  },
  {
   "cell_type": "markdown",
   "metadata": {},
   "source": [
    "### </ Diversion > :)"
   ]
  }
 ],
 "metadata": {
  "kernelspec": {
   "display_name": "Python 3 (ipykernel)",
   "language": "python",
   "name": "python3"
  },
  "language_info": {
   "codemirror_mode": {
    "name": "ipython",
    "version": 3
   },
   "file_extension": ".py",
   "mimetype": "text/x-python",
   "name": "python",
   "nbconvert_exporter": "python",
   "pygments_lexer": "ipython3",
   "version": "3.9.7"
  }
 },
 "nbformat": 4,
 "nbformat_minor": 4
}
